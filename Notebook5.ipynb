{
 "cells": [
  {
   "cell_type": "markdown",
   "metadata": {
    "id": "Gp2WddtV9IwG"
   },
   "source": [
    "# Programa Ingenias+ Data Science"
   ]
  },
  {
   "cell_type": "markdown",
   "metadata": {
    "id": "H4M1yVbf9IwH"
   },
   "source": [
    "Como dijimos en clases anteriores, Python tiene implementadas muchas librerias para poder trabajar con datos. En la clase de hoy trabajaremos con una de ellas: `Numpy`."
   ]
  },
  {
   "cell_type": "markdown",
   "metadata": {
    "id": "GdTT8WeL9IwI"
   },
   "source": [
    "Antes de comenzar, vamos a hablar un poco de esta libreria o modulo.\n",
    "\n",
    "**Numpy** es una librería optimizada para realizar cálculos numéricos con vectores y matrices. A diferencia de otros lenguajes de programación, Python no posee en su estructura central la figura de matrices. Eso quiere decir que para poder trabajar con esta estructura de datos deberiamos trabajar con listas de listas. NumPy introduce el concepto de arrays o matrices."
   ]
  },
  {
   "cell_type": "markdown",
   "metadata": {
    "id": "qWkq3EHK9IwK"
   },
   "source": [
    "Al ser de código abierto, `numpy` posee una documentación muy amplia que es **SIEMPRE RECOMENDABLE** consultar."
   ]
  },
  {
   "cell_type": "markdown",
   "metadata": {
    "id": "nxe3KLUO9IwL"
   },
   "source": [
    "- [Documentacion NumPy](https://devdocs.io/numpy/)"
   ]
  },
  {
   "cell_type": "markdown",
   "metadata": {
    "id": "l1Ay3nSs9IwN"
   },
   "source": [
    "## Clase 4: Introduccion a NumPy"
   ]
  },
  {
   "cell_type": "markdown",
   "metadata": {
    "id": "X03mviQS9IyL"
   },
   "source": [
    "# Ejercicios\n",
    "\n",
    "1. Crear un arreglo de ceros de longitud 12\n",
    "2. Crear un arreglo de longitud 10 con ceros en todas sus posiciones y un 10 en la posición número 5\n",
    "3. Crear un arreglo que tenga los números del 10 al 49\n",
    "4. Crear una arreglo 2d de shape (3, 3) que tenga los números del 0 al 8\n",
    "5. Crear un arreglo de números aleatorios de longitud 100 y obtener su media y varianza\n",
    "6. Calcular la media de un arreglo usando np.sum\n",
    "7. Calcular la varianza de un arreglo usando np.sum y np.mean\n",
    "8. Crear un array de números aleatorios usando np.random.randn.\n"
   ]
  },
  {
   "cell_type": "code",
   "execution_count": 1,
   "metadata": {
    "executionInfo": {
     "elapsed": 39,
     "status": "ok",
     "timestamp": 1744649415177,
     "user": {
      "displayName": "Micaela Korol",
      "userId": "04425086353403502399"
     },
     "user_tz": 180
    },
    "id": "pi3q1M-qqu3n"
   },
   "outputs": [],
   "source": [
    "# Importamos la biblioteca Numpy\n",
    "import numpy as np"
   ]
  },
  {
   "cell_type": "code",
   "execution_count": 2,
   "metadata": {
    "colab": {
     "base_uri": "https://localhost:8080/"
    },
    "executionInfo": {
     "elapsed": 7,
     "status": "ok",
     "timestamp": 1744649415247,
     "user": {
      "displayName": "Micaela Korol",
      "userId": "04425086353403502399"
     },
     "user_tz": 180
    },
    "id": "G0NMKT609IyM",
    "outputId": "8faedbd4-9935-46ca-baa9-3cc10d8e0687"
   },
   "outputs": [
    {
     "name": "stdout",
     "output_type": "stream",
     "text": [
      "[0. 0. 0. 0. 0. 0. 0. 0. 0. 0. 0. 0.]\n"
     ]
    }
   ],
   "source": [
    "# Ejericio 1\n",
    "# Crear un arreglo de ceros de longitud 12\n",
    "arreglo1 = np.zeros(12)\n",
    "print(arreglo1)"
   ]
  },
  {
   "cell_type": "code",
   "execution_count": 7,
   "metadata": {
    "colab": {
     "base_uri": "https://localhost:8080/"
    },
    "executionInfo": {
     "elapsed": 34,
     "status": "ok",
     "timestamp": 1744647874418,
     "user": {
      "displayName": "Micaela Korol",
      "userId": "04425086353403502399"
     },
     "user_tz": 180
    },
    "id": "mFmDPD_Nx-6N",
    "outputId": "b3a397b4-c88f-41b7-b983-9b9f12c56464"
   },
   "outputs": [
    {
     "name": "stdout",
     "output_type": "stream",
     "text": [
      "[ 0.  0.  0.  0. 10.  0.  0.  0.  0.  0.]\n",
      "[0. 0. 0. 0. 0. 0. 0. 0. 0. 0. 6. 0. 0. 0. 0. 0. 0. 0. 0. 0.]\n"
     ]
    }
   ],
   "source": [
    "# Ejercicio 2\n",
    "# Crea un arreglo de longitud 10 con ceros en todas las posiciones y un 10 en la posicion numero 5\n",
    "arreglo2 = np.zeros(10) # Crea el array de ceros\n",
    "arreglo2[4] = 10 # Pone un 10 en la posición 5\n",
    "print(arreglo2)\n",
    "\n",
    "# Crea un arreglo de longitud 20 con ceros en todas las posiciones y un 6 en la posicion numero 11\n",
    "\n",
    "arreglo3 = np.zeros(20)\n",
    "arreglo3[10] = 6\n",
    "print(arreglo3)\n"
   ]
  },
  {
   "cell_type": "code",
   "execution_count": 13,
   "metadata": {
    "colab": {
     "base_uri": "https://localhost:8080/"
    },
    "executionInfo": {
     "elapsed": 25,
     "status": "ok",
     "timestamp": 1744647876340,
     "user": {
      "displayName": "Micaela Korol",
      "userId": "04425086353403502399"
     },
     "user_tz": 180
    },
    "id": "PfpO0cFfyT4D",
    "outputId": "95dc621f-f730-4827-a5c0-b8ec85400949"
   },
   "outputs": [
    {
     "name": "stdout",
     "output_type": "stream",
     "text": [
      "[10 11 12 13 14 15 16 17 18 19 20 21 22 23 24 25 26 27 28 29 30 31 32 33\n",
      " 34 35 36 37 38 39 40 41 42 43 44 45 46 47 48 49]\n",
      "[ 99 100 101 102 103 104 105 106 107 108 109 110 111 112 113 114 115]\n"
     ]
    }
   ],
   "source": [
    "# Ejercicio 3\n",
    "# Crear un arreglo que tenga los números del 10 al 49\n",
    "\n",
    "arreglo3 = np.arange(10,50)\n",
    "print(arreglo3)\n",
    "\n",
    "# Crear un arreglo que tenga los números del 99 al 115\n",
    "arreglo4 = np.arange(99,116)\n",
    "print(arreglo4)"
   ]
  },
  {
   "cell_type": "code",
   "execution_count": 17,
   "metadata": {
    "colab": {
     "base_uri": "https://localhost:8080/"
    },
    "executionInfo": {
     "elapsed": 20,
     "status": "ok",
     "timestamp": 1744647886762,
     "user": {
      "displayName": "Micaela Korol",
      "userId": "04425086353403502399"
     },
     "user_tz": 180
    },
    "id": "T8mOlDa-y9sB",
    "outputId": "ea3fd5cd-3353-4a2d-f52a-fd2d469ce469"
   },
   "outputs": [
    {
     "name": "stdout",
     "output_type": "stream",
     "text": [
      "[[0 1 2]\n",
      " [3 4 5]\n",
      " [6 7 8]]\n",
      "[[10 11 12 13 14]\n",
      " [15 16 17 18 19]\n",
      " [20 21 22 23 24]\n",
      " [25 26 27 28 29]\n",
      " [30 31 32 33 34]]\n"
     ]
    }
   ],
   "source": [
    "# Ejercicio 4\n",
    "# Crear una arreglo 2d de shape (3, 3) que tenga los números del 0 al 8\n",
    "arreglo4 = np.arange(9).reshape(3,3)\n",
    "print(arreglo4)\n",
    "\n",
    "# Crear una arreglo 2d de shape (5, 5) que tenga los números del 10 al 34\n",
    "arreglo5 = np.arange(10,35).reshape(5,5)\n",
    "print(arreglo5)"
   ]
  },
  {
   "cell_type": "code",
   "execution_count": 19,
   "metadata": {
    "colab": {
     "base_uri": "https://localhost:8080/"
    },
    "executionInfo": {
     "elapsed": 28,
     "status": "ok",
     "timestamp": 1744647893511,
     "user": {
      "displayName": "Micaela Korol",
      "userId": "04425086353403502399"
     },
     "user_tz": 180
    },
    "id": "lEOknHst2CDk",
    "outputId": "4f55700a-f178-4d0b-f0f2-77d7abce6dbc"
   },
   "outputs": [
    {
     "name": "stdout",
     "output_type": "stream",
     "text": [
      "creacion de longuitud aleatorio de 100 \n",
      "[-0.04255204  1.21666232 -0.03353642 -1.24308456  0.90606979 -0.31466091\n",
      " -0.20849518 -0.00374049 -1.22542721  0.7445688   0.96712733 -0.05442004\n",
      " -1.08410207  0.56307555  0.37903799  1.50079204 -1.12016667  0.04088658\n",
      "  0.91588425  0.74856042  0.08065291 -0.34023997 -0.08951721  2.52943329\n",
      " -0.47439518 -0.28006361  1.55535052  1.52542678  0.65744516 -0.79522504\n",
      " -0.2740253   1.29613175 -1.94794357  0.73174439 -1.04163943 -0.61262984\n",
      " -0.24616985  0.81198375  1.11622656  1.2097846   0.68544706 -1.89596139\n",
      "  0.16131842 -0.17055044 -1.72653324 -0.60623706 -0.90234855 -0.69376277\n",
      "  1.43408715 -0.98532962  1.54740825  0.54533702  0.06570124 -0.14739388\n",
      " -1.81870355  1.47719066  1.41474551  1.55242539 -0.71619369  1.47305996\n",
      "  0.78196882 -0.66888095  1.35513974  0.49347388 -0.45964942 -0.17108086\n",
      "  0.78987238  0.2976925   0.43294015 -0.73307913 -0.29375684 -1.45762315\n",
      "  0.10101644  2.43477047  1.60637319  2.65834673 -0.03599819  1.0933173\n",
      " -0.15171515 -1.1807145  -0.56515277  0.822078    0.7761946   0.57745415\n",
      "  1.55947978 -0.59193586 -1.45283361 -1.33268722  0.71816015  0.16927674\n",
      " -0.17928569 -1.05407838  0.24807052  1.51161253 -0.47368141  0.75553059\n",
      "  1.50510627 -0.52730875 -0.06809235  0.35960451]\n",
      "\n",
      "creacion de media \n",
      "0.18408441919603072\n",
      "\n",
      "creacion de varianza \n",
      "1.021858726029517\n"
     ]
    }
   ],
   "source": [
    "# Ejercicio 5\n",
    "# Crear un arreglo de números aleatorios de longitud 100 y obtener su media y varianza.\n",
    "print(\"creacion de longuitud aleatorio de 100 \")\n",
    "arreglo5 = np.random.randn(100)\n",
    "print(arreglo5)\n",
    "print ()\n",
    "print(\"creacion de media \")\n",
    "media = np.mean(arreglo5)\n",
    "print(media)\n",
    "print()\n",
    "print(\"creacion de varianza \")\n",
    "varianza = np.var(arreglo5)\n",
    "print(varianza)"
   ]
  },
  {
   "cell_type": "code",
   "execution_count": 13,
   "metadata": {
    "colab": {
     "base_uri": "https://localhost:8080/"
    },
    "executionInfo": {
     "elapsed": 35,
     "status": "ok",
     "timestamp": 1744647905900,
     "user": {
      "displayName": "Micaela Korol",
      "userId": "04425086353403502399"
     },
     "user_tz": 180
    },
    "id": "WwM2Tckz2gnl",
    "outputId": "a2bd12e0-fff1-4ff4-84ed-f8188cdd8095"
   },
   "outputs": [
    {
     "name": "stdout",
     "output_type": "stream",
     "text": [
      "4.0\n"
     ]
    }
   ],
   "source": [
    "# Ejericio 6\n",
    "# Calcular la media de un arreglo usando np.sum\n",
    "\n",
    "arry = np.array([1,2,3,4,10])\n",
    "media = np.sum(arry)/len(arry) # Lo que hace len es decirme el numero de elementos que tiene el arreglo}\n",
    "#print(len(arry))\n",
    "\n",
    "print(media)\n"
   ]
  },
  {
   "cell_type": "code",
   "execution_count": 15,
   "metadata": {
    "colab": {
     "base_uri": "https://localhost:8080/"
    },
    "executionInfo": {
     "elapsed": 54,
     "status": "ok",
     "timestamp": 1744647917345,
     "user": {
      "displayName": "Micaela Korol",
      "userId": "04425086353403502399"
     },
     "user_tz": 180
    },
    "id": "OkvVVYCR3L5S",
    "outputId": "6c6d961b-0f4e-4f9a-cc9e-21b710a5bb84"
   },
   "outputs": [
    {
     "name": "stdout",
     "output_type": "stream",
     "text": [
      "creacion de vianza de un arreglo usando np.sum y n.mean\n",
      "10.0\n",
      "12.5\n"
     ]
    }
   ],
   "source": [
    "# Ejercicio7\n",
    "# Calcular la varianza de un arreglo usando np.sum y np.mean\n",
    "print(\"creacion de vianza de un arreglo usando np.sum y n.mean\")\n",
    "arreglo7 = np.array([1,2,3,4,10])\n",
    "varianza = np.sum((arreglo7-np.mean(arreglo7))**2)/len(arreglo7)\n",
    "print(varianza)\n",
    "\n",
    "# La varianza se calcula  como la sumatoria de la diferencia entre el valor original y su media , todo al cuadrado.\n",
    "# A todo eso lo debemos dividir por la cantidad de elementos menos 1\n",
    "\n",
    "arreglo7 = np.array([1,2,3,4,10])\n",
    "varianza = np.sum((arreglo7-np.mean(arreglo7))**2)/(len(arreglo7)-1)\n",
    "\n",
    "print(varianza)"
   ]
  },
  {
   "cell_type": "code",
   "execution_count": 17,
   "metadata": {
    "colab": {
     "base_uri": "https://localhost:8080/"
    },
    "executionInfo": {
     "elapsed": 19,
     "status": "ok",
     "timestamp": 1744647921535,
     "user": {
      "displayName": "Micaela Korol",
      "userId": "04425086353403502399"
     },
     "user_tz": 180
    },
    "id": "PcKPK3r03yX6",
    "outputId": "e4e9d9a7-0b65-4715-a6f3-d7ec1169bae6"
   },
   "outputs": [
    {
     "name": "stdout",
     "output_type": "stream",
     "text": [
      "creacion de un array de nuemros aaleatorios \n",
      "[-0.90316065 -0.84381728 -0.41151112  0.63121092  0.2625178   1.40752326\n",
      "  1.4545315  -0.43667574 -1.25867986 -1.26036181]\n"
     ]
    }
   ],
   "source": [
    "# Ejercicio 8\n",
    "# Crear un array de números aleatorios usando np.random.randn\n",
    "print(\"creacion de un array de numeros aleatorios \")\n",
    "arry_aleatorio = np.random.randn(10)\n",
    "print(arry_aleatorio)\n"
   ]
  },
  {
   "cell_type": "code",
   "execution_count": null,
   "metadata": {},
   "outputs": [],
   "source": []
  }
 ],
 "metadata": {
  "colab": {
   "provenance": [
    {
     "file_id": "1NGGJyM8BKDZKwcKEwsOeQe7C11-srOHx",
     "timestamp": 1744649420488
    },
    {
     "file_id": "1yM9mEW0U6gxoaAFhZyw2DpZdZMT5v10J",
     "timestamp": 1676044383219
    },
    {
     "file_id": "1RzLcI0RY1YrYoMa7PW17OME9qOO4jJ4s",
     "timestamp": 1676044338043
    }
   ]
  },
  "kernelspec": {
   "display_name": "Python [conda env:base] *",
   "language": "python",
   "name": "conda-base-py"
  },
  "language_info": {
   "codemirror_mode": {
    "name": "ipython",
    "version": 3
   },
   "file_extension": ".py",
   "mimetype": "text/x-python",
   "name": "python",
   "nbconvert_exporter": "python",
   "pygments_lexer": "ipython3",
   "version": "3.12.7"
  }
 },
 "nbformat": 4,
 "nbformat_minor": 4
}
