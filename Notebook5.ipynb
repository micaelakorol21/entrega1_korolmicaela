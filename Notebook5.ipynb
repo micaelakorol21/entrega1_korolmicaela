{
 "cells": [
  {
   "cell_type": "markdown",
   "metadata": {
    "id": "Gp2WddtV9IwG"
   },
   "source": [
    "# Programa Ingenias+ Data Science"
   ]
  },
  {
   "cell_type": "markdown",
   "metadata": {
    "id": "H4M1yVbf9IwH"
   },
   "source": [
    "Como dijimos en clases anteriores, Python tiene implementadas muchas librerias para poder trabajar con datos. En la clase de hoy trabajaremos con una de ellas: `Numpy`."
   ]
  },
  {
   "cell_type": "markdown",
   "metadata": {
    "id": "GdTT8WeL9IwI"
   },
   "source": [
    "Antes de comenzar, vamos a hablar un poco de esta libreria o modulo.\n",
    "\n",
    "**Numpy** es una librería optimizada para realizar cálculos numéricos con vectores y matrices. A diferencia de otros lenguajes de programación, Python no posee en su estructura central la figura de matrices. Eso quiere decir que para poder trabajar con esta estructura de datos deberiamos trabajar con listas de listas. NumPy introduce el concepto de arrays o matrices."
   ]
  },
  {
   "cell_type": "markdown",
   "metadata": {
    "id": "qWkq3EHK9IwK"
   },
   "source": [
    "Al ser de código abierto, `numpy` posee una documentación muy amplia que es **SIEMPRE RECOMENDABLE** consultar."
   ]
  },
  {
   "cell_type": "markdown",
   "metadata": {
    "id": "nxe3KLUO9IwL"
   },
   "source": [
    "- [Documentacion NumPy](https://devdocs.io/numpy/)"
   ]
  },
  {
   "cell_type": "markdown",
   "metadata": {
    "id": "l1Ay3nSs9IwN"
   },
   "source": [
    "## Clase 4: Introduccion a NumPy"
   ]
  },
  {
   "cell_type": "markdown",
   "metadata": {
    "id": "X03mviQS9IyL"
   },
   "source": [
    "# Ejercicios\n",
    "\n",
    "1. Crear un arreglo de ceros de longitud 12\n",
    "2. Crear un arreglo de longitud 10 con ceros en todas sus posiciones y un 10 en la posición número 5\n",
    "3. Crear un arreglo que tenga los números del 10 al 49\n",
    "4. Crear una arreglo 2d de shape (3, 3) que tenga los números del 0 al 8\n",
    "5. Crear un arreglo de números aleatorios de longitud 100 y obtener su media y varianza\n",
    "6. Calcular la media de un arreglo usando np.sum\n",
    "7. Calcular la varianza de un arreglo usando np.sum y np.mean\n",
    "8. Crear un array de números aleatorios usando np.random.randn.\n"
   ]
  },
  {
   "cell_type": "code",
   "execution_count": 1,
   "metadata": {
    "executionInfo": {
     "elapsed": 39,
     "status": "ok",
     "timestamp": 1744649415177,
     "user": {
      "displayName": "Micaela Korol",
      "userId": "04425086353403502399"
     },
     "user_tz": 180
    },
    "id": "pi3q1M-qqu3n"
   },
   "outputs": [],
   "source": [
    "# Importamos la biblioteca Numpy\n",
    "import numpy as np"
   ]
  },
  {
   "cell_type": "code",
   "execution_count": 3,
   "metadata": {
    "colab": {
     "base_uri": "https://localhost:8080/"
    },
    "executionInfo": {
     "elapsed": 7,
     "status": "ok",
     "timestamp": 1744649415247,
     "user": {
      "displayName": "Micaela Korol",
      "userId": "04425086353403502399"
     },
     "user_tz": 180
    },
    "id": "G0NMKT609IyM",
    "outputId": "8faedbd4-9935-46ca-baa9-3cc10d8e0687"
   },
   "outputs": [
    {
     "name": "stdout",
     "output_type": "stream",
     "text": [
      "[0. 0. 0. 0. 0. 0. 0. 0. 0. 0. 0. 0.]\n"
     ]
    }
   ],
   "source": [
    "# Ejericio 1\n",
    "# Crear un arreglo de ceros de longitud 12\n",
    "arreglo1 = np.zeros(12)\n",
    "print(arreglo1)"
   ]
  },
  {
   "cell_type": "code",
   "execution_count": 5,
   "metadata": {
    "colab": {
     "base_uri": "https://localhost:8080/"
    },
    "executionInfo": {
     "elapsed": 34,
     "status": "ok",
     "timestamp": 1744647874418,
     "user": {
      "displayName": "Micaela Korol",
      "userId": "04425086353403502399"
     },
     "user_tz": 180
    },
    "id": "mFmDPD_Nx-6N",
    "outputId": "b3a397b4-c88f-41b7-b983-9b9f12c56464"
   },
   "outputs": [
    {
     "name": "stdout",
     "output_type": "stream",
     "text": [
      "[ 0.  0.  0.  0. 10.  0.  0.  0.  0.  0.]\n"
     ]
    }
   ],
   "source": [
    "# Ejercicio 2\n",
    "# Crea un arrelgo de longitud 10 con ceros en todas las posiciones y un 10 en la posicion numero 5\n",
    "arreglo2 = np.zeros(10)\n",
    "arreglo2[4] = 10\n",
    "print(arreglo2)\n"
   ]
  },
  {
   "cell_type": "code",
   "execution_count": 7,
   "metadata": {
    "colab": {
     "base_uri": "https://localhost:8080/"
    },
    "executionInfo": {
     "elapsed": 25,
     "status": "ok",
     "timestamp": 1744647876340,
     "user": {
      "displayName": "Micaela Korol",
      "userId": "04425086353403502399"
     },
     "user_tz": 180
    },
    "id": "PfpO0cFfyT4D",
    "outputId": "95dc621f-f730-4827-a5c0-b8ec85400949"
   },
   "outputs": [
    {
     "name": "stdout",
     "output_type": "stream",
     "text": [
      "[10 11 12 13 14 15 16 17 18 19 20 21 22 23 24 25 26 27 28 29 30 31 32 33\n",
      " 34 35 36 37 38 39 40 41 42 43 44 45 46 47 48 49]\n"
     ]
    }
   ],
   "source": [
    "# Ejercicio 3\n",
    "# Crear un arreglo que tenga los números del 10 al 49\n",
    "\n",
    "arreglo3 = np.arange(10,50)\n",
    "print(arreglo3)"
   ]
  },
  {
   "cell_type": "code",
   "execution_count": 9,
   "metadata": {
    "colab": {
     "base_uri": "https://localhost:8080/"
    },
    "executionInfo": {
     "elapsed": 20,
     "status": "ok",
     "timestamp": 1744647886762,
     "user": {
      "displayName": "Micaela Korol",
      "userId": "04425086353403502399"
     },
     "user_tz": 180
    },
    "id": "T8mOlDa-y9sB",
    "outputId": "ea3fd5cd-3353-4a2d-f52a-fd2d469ce469"
   },
   "outputs": [
    {
     "name": "stdout",
     "output_type": "stream",
     "text": [
      "[[0 1 2]\n",
      " [3 4 5]\n",
      " [6 7 8]]\n"
     ]
    }
   ],
   "source": [
    "# Ejercicio 4\n",
    "# Crear una arreglo 2d de shape (3, 3) que tenga los números del 0 al 8\n",
    "arreglo4 = np.arange(9).reshape(3,3)\n",
    "print(arreglo4)"
   ]
  },
  {
   "cell_type": "code",
   "execution_count": 11,
   "metadata": {
    "colab": {
     "base_uri": "https://localhost:8080/"
    },
    "executionInfo": {
     "elapsed": 28,
     "status": "ok",
     "timestamp": 1744647893511,
     "user": {
      "displayName": "Micaela Korol",
      "userId": "04425086353403502399"
     },
     "user_tz": 180
    },
    "id": "lEOknHst2CDk",
    "outputId": "4f55700a-f178-4d0b-f0f2-77d7abce6dbc"
   },
   "outputs": [
    {
     "name": "stdout",
     "output_type": "stream",
     "text": [
      "creacion de longuitud aleatorio de 100 \n",
      "[ 1.59730894e+00 -6.00733350e-01  1.94866782e-01 -1.13136140e+00\n",
      " -4.77450159e-01 -1.13704418e+00  4.01045601e-01  1.81843774e-01\n",
      " -9.66425678e-01 -5.90525240e-01  6.11164221e-01 -7.37176127e-01\n",
      " -6.99786941e-01 -1.79796510e-01  1.02847744e+00 -3.72691657e-01\n",
      "  2.12574281e-01  1.83568074e+00 -5.30347040e-01  8.05871385e-01\n",
      " -4.71712284e-01 -1.82805126e+00 -1.25427761e-02  2.38921199e+00\n",
      "  1.54102734e-01  3.77003647e-01 -2.37375314e-01 -1.03505458e+00\n",
      " -9.39798147e-01 -9.01539761e-01 -3.44633069e-02 -2.17391574e+00\n",
      " -1.43000626e+00  8.02799052e-02 -1.14971009e+00  2.29895313e-01\n",
      "  2.59143043e-01  6.84028701e-01  8.74241943e-01  4.96036137e-01\n",
      " -1.99226765e-02  1.97984547e-01 -6.04338710e-01 -1.90708875e+00\n",
      "  2.39953116e+00 -6.01897664e-01 -1.47386042e+00 -1.80576123e+00\n",
      " -1.57036060e+00  2.08338484e+00 -9.62911499e-01 -3.96903077e-01\n",
      "  5.58054168e-01  6.28696327e-01 -4.27575497e-01 -2.50982025e+00\n",
      " -1.01927039e+00 -9.94951642e-01 -6.02103840e-01  7.56395177e-01\n",
      "  7.71892803e-01  8.69779928e-01  1.85333227e-03 -1.89050736e+00\n",
      "  1.34894656e+00  4.84232166e-01  1.05756421e+00 -6.89215884e-01\n",
      " -1.10113862e+00  8.94812781e-01 -1.00999230e+00 -5.28398037e-01\n",
      "  9.03891945e-01 -1.44620601e-01  1.98735901e-02 -6.26841241e-01\n",
      " -9.85498408e-02 -3.61253219e-02  5.00411013e-01  5.64710072e-01\n",
      " -8.99081909e-01 -1.80885679e+00  1.95439936e+00  1.20671083e+00\n",
      " -1.36376503e+00  9.62698199e-01  6.04966691e-01  2.44134982e-01\n",
      "  1.63543769e+00  6.36173100e-02 -1.94029190e+00 -1.17602853e+00\n",
      "  9.87734002e-01 -2.42139107e+00 -1.11818309e+00 -2.61229124e-01\n",
      "  2.98399582e-01  5.21396564e-01 -1.71339654e-01  9.27064437e-01]\n",
      "\n",
      "creacion de media \n",
      "-0.13958479524137074\n",
      "\n",
      "creacion de varianza \n",
      "1.1135964262201723\n"
     ]
    }
   ],
   "source": [
    "# Ejercicio 5\n",
    "# Crear un arreglo de números aleatorios de longitud 100 y obtener su media y varianza.\n",
    "print(\"creacion de longuitud aleatorio de 100 \")\n",
    "arreglo5 = np.random.randn(100)\n",
    "print(arreglo5)\n",
    "print ()\n",
    "print(\"creacion de media \")\n",
    "media = np.mean(arreglo5)\n",
    "print(media)\n",
    "print()\n",
    "print(\"creacion de varianza \")\n",
    "varianza = np.var(arreglo5)\n",
    "print(varianza)"
   ]
  },
  {
   "cell_type": "code",
   "execution_count": 13,
   "metadata": {
    "colab": {
     "base_uri": "https://localhost:8080/"
    },
    "executionInfo": {
     "elapsed": 35,
     "status": "ok",
     "timestamp": 1744647905900,
     "user": {
      "displayName": "Micaela Korol",
      "userId": "04425086353403502399"
     },
     "user_tz": 180
    },
    "id": "WwM2Tckz2gnl",
    "outputId": "a2bd12e0-fff1-4ff4-84ed-f8188cdd8095"
   },
   "outputs": [
    {
     "name": "stdout",
     "output_type": "stream",
     "text": [
      "4.0\n"
     ]
    }
   ],
   "source": [
    "# Ejericio 6\n",
    "# Calcular la media de un arreglo usando np.sum\n",
    "\n",
    "arry = np.array([1,2,3,4,10])\n",
    "media = np.sum(arry)/len(arry) # Lo que hace len es decirme el numero de elementos que tiene el arreglo}\n",
    "#print(len(arry))\n",
    "\n",
    "print(media)\n"
   ]
  },
  {
   "cell_type": "code",
   "execution_count": 15,
   "metadata": {
    "colab": {
     "base_uri": "https://localhost:8080/"
    },
    "executionInfo": {
     "elapsed": 54,
     "status": "ok",
     "timestamp": 1744647917345,
     "user": {
      "displayName": "Micaela Korol",
      "userId": "04425086353403502399"
     },
     "user_tz": 180
    },
    "id": "OkvVVYCR3L5S",
    "outputId": "6c6d961b-0f4e-4f9a-cc9e-21b710a5bb84"
   },
   "outputs": [
    {
     "name": "stdout",
     "output_type": "stream",
     "text": [
      "creacion de vianza de un arreglo usando np.sum y n.mean\n",
      "10.0\n",
      "12.5\n"
     ]
    }
   ],
   "source": [
    "# Ejercicio7\n",
    "# Calcular la varianza de un arreglo usando np.sum y np.mean\n",
    "print(\"creacion de vianza de un arreglo usando np.sum y n.mean\")\n",
    "arreglo7 = np.array([1,2,3,4,10])\n",
    "varianza = np.sum((arreglo7-np.mean(arreglo7))**2)/len(arreglo7)\n",
    "print(varianza)\n",
    "\n",
    "# La varianza se calcula  como la sumatoria de la diferencia entre el valor original y su media , todo al cuadrado.\n",
    "# A todo eso lo debemos dividir por la cantidad de elementos menos 1\n",
    "\n",
    "arreglo7 = np.array([1,2,3,4,10])\n",
    "varianza = np.sum((arreglo7-np.mean(arreglo7))**2)/(len(arreglo7)-1)\n",
    "\n",
    "print(varianza)"
   ]
  },
  {
   "cell_type": "code",
   "execution_count": 17,
   "metadata": {
    "colab": {
     "base_uri": "https://localhost:8080/"
    },
    "executionInfo": {
     "elapsed": 19,
     "status": "ok",
     "timestamp": 1744647921535,
     "user": {
      "displayName": "Micaela Korol",
      "userId": "04425086353403502399"
     },
     "user_tz": 180
    },
    "id": "PcKPK3r03yX6",
    "outputId": "e4e9d9a7-0b65-4715-a6f3-d7ec1169bae6"
   },
   "outputs": [
    {
     "name": "stdout",
     "output_type": "stream",
     "text": [
      "creacion de un array de nuemros aaleatorios \n",
      "[-0.90316065 -0.84381728 -0.41151112  0.63121092  0.2625178   1.40752326\n",
      "  1.4545315  -0.43667574 -1.25867986 -1.26036181]\n"
     ]
    }
   ],
   "source": [
    "# Ejercicio 8\n",
    "# Crear un array de números aleatorios usando np.random.randn\n",
    "print(\"creacion de un array de numeros aleatorios \")\n",
    "arry_aleatorio = np.random.randn(10)\n",
    "print(arry_aleatorio)\n"
   ]
  },
  {
   "cell_type": "code",
   "execution_count": null,
   "metadata": {},
   "outputs": [],
   "source": []
  }
 ],
 "metadata": {
  "colab": {
   "provenance": [
    {
     "file_id": "1NGGJyM8BKDZKwcKEwsOeQe7C11-srOHx",
     "timestamp": 1744649420488
    },
    {
     "file_id": "1yM9mEW0U6gxoaAFhZyw2DpZdZMT5v10J",
     "timestamp": 1676044383219
    },
    {
     "file_id": "1RzLcI0RY1YrYoMa7PW17OME9qOO4jJ4s",
     "timestamp": 1676044338043
    }
   ]
  },
  "kernelspec": {
   "display_name": "Python [conda env:base] *",
   "language": "python",
   "name": "conda-base-py"
  },
  "language_info": {
   "codemirror_mode": {
    "name": "ipython",
    "version": 3
   },
   "file_extension": ".py",
   "mimetype": "text/x-python",
   "name": "python",
   "nbconvert_exporter": "python",
   "pygments_lexer": "ipython3",
   "version": "3.12.7"
  }
 },
 "nbformat": 4,
 "nbformat_minor": 4
}
